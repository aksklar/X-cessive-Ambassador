{
 "cells": [
  {
   "cell_type": "code",
   "execution_count": 5,
   "metadata": {
    "scrolled": true
   },
   "outputs": [
    {
     "data": {
      "text/html": [
       "<div>\n",
       "<style scoped>\n",
       "    .dataframe tbody tr th:only-of-type {\n",
       "        vertical-align: middle;\n",
       "    }\n",
       "\n",
       "    .dataframe tbody tr th {\n",
       "        vertical-align: top;\n",
       "    }\n",
       "\n",
       "    .dataframe thead th {\n",
       "        text-align: right;\n",
       "    }\n",
       "</style>\n",
       "<table border=\"1\" class=\"dataframe\">\n",
       "  <thead>\n",
       "    <tr style=\"text-align: right;\">\n",
       "      <th></th>\n",
       "      <th>Title</th>\n",
       "      <th>Year</th>\n",
       "      <th>Plot</th>\n",
       "      <th>Genre</th>\n",
       "    </tr>\n",
       "  </thead>\n",
       "  <tbody>\n",
       "    <tr>\n",
       "      <th>0</th>\n",
       "      <td>Toy Story</td>\n",
       "      <td>1995</td>\n",
       "      <td>A little boy named Andy loves to be in his roo...</td>\n",
       "      <td>Animation</td>\n",
       "    </tr>\n",
       "    <tr>\n",
       "      <th>1</th>\n",
       "      <td>Jumanji</td>\n",
       "      <td>1995</td>\n",
       "      <td>After being trapped in a jungle board game for...</td>\n",
       "      <td>Adventure</td>\n",
       "    </tr>\n",
       "    <tr>\n",
       "      <th>2</th>\n",
       "      <td>Grumpier Old Men</td>\n",
       "      <td>1995</td>\n",
       "      <td>Things don't seem to change much in Wabasha Co...</td>\n",
       "      <td>Comedy</td>\n",
       "    </tr>\n",
       "    <tr>\n",
       "      <th>3</th>\n",
       "      <td>Waiting to Exhale</td>\n",
       "      <td>1995</td>\n",
       "      <td>This story based on the best selling novel by ...</td>\n",
       "      <td>Comedy</td>\n",
       "    </tr>\n",
       "    <tr>\n",
       "      <th>4</th>\n",
       "      <td>Father of the Bride Part II</td>\n",
       "      <td>1995</td>\n",
       "      <td>In this sequel to \"Father of the Bride\", Georg...</td>\n",
       "      <td>Comedy</td>\n",
       "    </tr>\n",
       "  </tbody>\n",
       "</table>\n",
       "</div>"
      ],
      "text/plain": [
       "                         Title  Year  \\\n",
       "0                    Toy Story  1995   \n",
       "1                      Jumanji  1995   \n",
       "2             Grumpier Old Men  1995   \n",
       "3            Waiting to Exhale  1995   \n",
       "4  Father of the Bride Part II  1995   \n",
       "\n",
       "                                                Plot      Genre  \n",
       "0  A little boy named Andy loves to be in his roo...  Animation  \n",
       "1  After being trapped in a jungle board game for...  Adventure  \n",
       "2  Things don't seem to change much in Wabasha Co...     Comedy  \n",
       "3  This story based on the best selling novel by ...     Comedy  \n",
       "4  In this sequel to \"Father of the Bride\", Georg...     Comedy  "
      ]
     },
     "execution_count": 5,
     "metadata": {},
     "output_type": "execute_result"
    }
   ],
   "source": [
    "# Import Pandas\n",
    "import pandas as pd\n",
    "df = pd.read_csv('data/1500_movies_data.csv')\n",
    "df.head()"
   ]
  },
  {
   "cell_type": "code",
   "execution_count": 6,
   "metadata": {
    "collapsed": true
   },
   "outputs": [],
   "source": [
    "# Import StringIO\n",
    "from io import StringIO"
   ]
  },
  {
   "cell_type": "code",
   "execution_count": 7,
   "metadata": {},
   "outputs": [
    {
     "data": {
      "text/html": [
       "<div>\n",
       "<style scoped>\n",
       "    .dataframe tbody tr th:only-of-type {\n",
       "        vertical-align: middle;\n",
       "    }\n",
       "\n",
       "    .dataframe tbody tr th {\n",
       "        vertical-align: top;\n",
       "    }\n",
       "\n",
       "    .dataframe thead th {\n",
       "        text-align: right;\n",
       "    }\n",
       "</style>\n",
       "<table border=\"1\" class=\"dataframe\">\n",
       "  <thead>\n",
       "    <tr style=\"text-align: right;\">\n",
       "      <th></th>\n",
       "      <th>Genre</th>\n",
       "      <th>Plot</th>\n",
       "      <th>category_id</th>\n",
       "    </tr>\n",
       "  </thead>\n",
       "  <tbody>\n",
       "    <tr>\n",
       "      <th>0</th>\n",
       "      <td>Animation</td>\n",
       "      <td>A little boy named Andy loves to be in his roo...</td>\n",
       "      <td>0</td>\n",
       "    </tr>\n",
       "    <tr>\n",
       "      <th>1</th>\n",
       "      <td>Adventure</td>\n",
       "      <td>After being trapped in a jungle board game for...</td>\n",
       "      <td>1</td>\n",
       "    </tr>\n",
       "    <tr>\n",
       "      <th>2</th>\n",
       "      <td>Comedy</td>\n",
       "      <td>Things don't seem to change much in Wabasha Co...</td>\n",
       "      <td>2</td>\n",
       "    </tr>\n",
       "    <tr>\n",
       "      <th>3</th>\n",
       "      <td>Comedy</td>\n",
       "      <td>This story based on the best selling novel by ...</td>\n",
       "      <td>2</td>\n",
       "    </tr>\n",
       "    <tr>\n",
       "      <th>4</th>\n",
       "      <td>Comedy</td>\n",
       "      <td>In this sequel to \"Father of the Bride\", Georg...</td>\n",
       "      <td>2</td>\n",
       "    </tr>\n",
       "  </tbody>\n",
       "</table>\n",
       "</div>"
      ],
      "text/plain": [
       "       Genre                                               Plot  category_id\n",
       "0  Animation  A little boy named Andy loves to be in his roo...            0\n",
       "1  Adventure  After being trapped in a jungle board game for...            1\n",
       "2     Comedy  Things don't seem to change much in Wabasha Co...            2\n",
       "3     Comedy  This story based on the best selling novel by ...            2\n",
       "4     Comedy  In this sequel to \"Father of the Bride\", Georg...            2"
      ]
     },
     "execution_count": 7,
     "metadata": {},
     "output_type": "execute_result"
    }
   ],
   "source": [
    "# Created column called category_id which will give each type of genre and numeric label\n",
    "col = ['Genre', 'Plot']\n",
    "df = df[col]\n",
    "df = df[pd.notnull(df['Plot'])]\n",
    "\n",
    "df.columns = ['Genre', 'Plot']\n",
    "\n",
    "\n",
    "df['category_id'] = df['Genre'].factorize()[0]\n",
    "category_id_df = df[['Genre', 'category_id']].drop_duplicates().sort_values('category_id')\n",
    "category_to_id = dict(category_id_df.values)\n",
    "id_to_category = dict(category_id_df[['category_id', 'Genre']].values)\n",
    "df.head()"
   ]
  },
  {
   "cell_type": "code",
   "execution_count": 8,
   "metadata": {},
   "outputs": [
    {
     "data": {
      "text/plain": [
       "Comedy         451\n",
       "Drama          294\n",
       "Action         257\n",
       "Crime          104\n",
       "Documentary    100\n",
       "Biography       75\n",
       "Adventure       71\n",
       "Animation       63\n",
       "Horror          58\n",
       "Mystery         10\n",
       "Fantasy          6\n",
       "Thriller         5\n",
       "Sci-Fi           4\n",
       "Name: Genre, dtype: int64"
      ]
     },
     "execution_count": 8,
     "metadata": {},
     "output_type": "execute_result"
    }
   ],
   "source": [
    "# Count of movies in each category\n",
    "df[\"Genre\"].value_counts()"
   ]
  },
  {
   "cell_type": "code",
   "execution_count": 9,
   "metadata": {
    "scrolled": true
   },
   "outputs": [
    {
     "data": {
      "image/png": "[encoded data removed]",
      "text/plain": [
       "<matplotlib.figure.Figure at 0x1ba94d57cf8>"
      ]
     },
     "metadata": {},
     "output_type": "display_data"
    }
   ],
   "source": [
    "# Plot movies by genre\n",
    "import matplotlib.pyplot as plt\n",
    "fig = plt.figure(figsize=(8,6))\n",
    "df.groupby('Genre').Plot.count().plot.bar(ylim=0)\n",
    "plt.show()"
   ]
  },
  {
   "cell_type": "code",
   "execution_count": 10,
   "metadata": {
    "collapsed": true
   },
   "outputs": [],
   "source": [
    "from sklearn.feature_extraction.text import TfidfVectorizer\n",
    "\n",
    "# Create tfidf variable which calls in the tfidf vectorizer with its parameters\n",
    "tfidf=TfidfVectorizer(sublinear_tf=True,lowercase=True,max_df=0.5,encoding= 'utf-8', norm = 'l2', stop_words='english', ngram_range=(1,2))\n",
    "\n",
    "# Create Features and Labels\n",
    "features=tfidf.fit_transform(df['Plot']).toarray()\n",
    "labels=df.category_id\n",
    "features.shape\n",
    "\n",
    "# Create X & y variables for plot and genre\n",
    "X=df['Plot']\n",
    "y=df['Genre']\n",
    "\n",
    "from sklearn.model_selection import train_test_split\n",
    "from sklearn.feature_extraction.text import CountVectorizer\n",
    "from sklearn.feature_extraction.text import TfidfTransformer\n",
    "from sklearn.naive_bayes import MultinomialNB\n",
    "from sklearn.linear_model import LogisticRegression\n",
    "from sklearn import metrics\n",
    "\n",
    "# Train test and split the data\n",
    "X_train, X_test, y_train, y_test=train_test_split(X, y,test_size=0.33,random_state=42)\n",
    "\n",
    "# Use count vectorizer tfidf and stop words to preprocess our text data and remove noisy features\n",
    "count_vect=CountVectorizer(stop_words='english', max_df=0.5, ngram_range=(1,2))\n",
    "X_train_counts=count_vect.fit_transform(X_train)\n",
    "tfidf_transformer=TfidfTransformer(sublinear_tf=True,smooth_idf=False)\n",
    "X_train_tfidf=tfidf_transformer.fit_transform(X_train_counts)"
   ]
  },
  {
   "cell_type": "code",
   "execution_count": 11,
   "metadata": {},
   "outputs": [
    {
     "data": {
      "text/plain": [
       "(1498, 83117)"
      ]
     },
     "execution_count": 11,
     "metadata": {},
     "output_type": "execute_result"
    }
   ],
   "source": [
    "features.shape"
   ]
  },
  {
   "cell_type": "code",
   "execution_count": 12,
   "metadata": {},
   "outputs": [
    {
     "data": {
      "text/plain": [
       "(1003, 57773)"
      ]
     },
     "execution_count": 12,
     "metadata": {},
     "output_type": "execute_result"
    }
   ],
   "source": [
    "X_train_tfidf.shape"
   ]
  },
  {
   "cell_type": "code",
   "execution_count": 13,
   "metadata": {},
   "outputs": [
    {
     "data": {
      "text/plain": [
       "(1003, 57773)"
      ]
     },
     "execution_count": 13,
     "metadata": {},
     "output_type": "execute_result"
    }
   ],
   "source": [
    "X_train_counts.shape"
   ]
  },
  {
   "cell_type": "code",
   "execution_count": 14,
   "metadata": {},
   "outputs": [
    {
     "data": {
      "text/plain": [
       "(1003,)"
      ]
     },
     "execution_count": 14,
     "metadata": {},
     "output_type": "execute_result"
    }
   ],
   "source": [
    "X_train.shape"
   ]
  },
  {
   "cell_type": "code",
   "execution_count": 15,
   "metadata": {
    "scrolled": true
   },
   "outputs": [
    {
     "name": "stdout",
     "output_type": "stream",
     "text": [
      "# 'Action':\n",
      " . Most correlated unigrams:\n",
      ". mission\n",
      ". martial\n",
      ". terrorist\n",
      ". cia\n",
      ". agent\n",
      " . Most correlated bigrams:\n",
      ". black ops\n",
      ". katniss everdeen\n",
      ". captain america\n",
      ". secret service\n",
      ". martial arts\n",
      "# 'Adventure':\n",
      " . Most correlated unigrams:\n",
      ". nebraska\n",
      ". sailing\n",
      ". vandergelder\n",
      ". huck\n",
      ". gandalf\n",
      " . Most correlated bigrams:\n",
      ". nebraska father\n",
      ". sea monsters\n",
      ". lake town\n",
      ". lonely mountain\n",
      ". lee jones\n",
      "# 'Animation':\n",
      " . Most correlated unigrams:\n",
      ". eternally\n",
      ". dil\n",
      ". atlantis\n",
      ". goku\n",
      ". animated\n",
      " . Most correlated bigrams:\n",
      ". bending tour\n",
      ". mind bending\n",
      ". tour distant\n",
      ". taken mind\n",
      ". girl taken\n",
      "# 'Biography':\n",
      " . Most correlated unigrams:\n",
      ". chilean\n",
      ". munich\n",
      ". prefontaine\n",
      ". olympic\n",
      ". oregon\n",
      " . Most correlated bigrams:\n",
      ". martin luther\n",
      ". comedian harmonists\n",
      ". inspired true\n",
      ". steve prefontaine\n",
      ". true story\n",
      "# 'Comedy':\n",
      " . Most correlated unigrams:\n",
      ". mitch\n",
      ". girlfriends\n",
      ". comedy\n",
      ". josh\n",
      ". wedding\n",
      " . Most correlated bigrams:\n",
      ". come terms\n",
      ". business owner\n",
      ". high school\n",
      ". mid life\n",
      ". romantic comedy\n",
      "# 'Crime':\n",
      " . Most correlated unigrams:\n",
      ". juan\n",
      ". holmes\n",
      ". casey\n",
      ". gambler\n",
      ". blackmail\n",
      " . Most correlated bigrams:\n",
      ". christmas special\n",
      ". sherlock holmes\n",
      ". returns childhood\n",
      ". stakes rise\n",
      ". mysterious woman\n",
      "# 'Documentary':\n",
      " . Most correlated unigrams:\n",
      ". intimate\n",
      ". footage\n",
      ". activists\n",
      ". interviews\n",
      ". documentary\n",
      " . Most correlated bigrams:\n",
      ". art careers\n",
      ". voice actors\n",
      ". documentary legendary\n",
      ". family members\n",
      ". documentary follows\n",
      "# 'Drama':\n",
      " . Most correlated unigrams:\n",
      ". anne\n",
      ". visits\n",
      ". troubled\n",
      ". yossi\n",
      ". affair\n",
      " . Most correlated bigrams:\n",
      ". life time\n",
      ". life meets\n",
      ". mother death\n",
      ". love affair\n",
      ". close knit\n",
      "# 'Fantasy':\n",
      " . Most correlated unigrams:\n",
      ". krank\n",
      ". djin\n",
      ". akivasha\n",
      ". kira\n",
      ". kull\n",
      " . Most correlated bigrams:\n",
      ". children krank\n",
      ". dystopian society\n",
      ". clones using\n",
      ". sets brother\n",
      ". strongman sets\n",
      "# 'Horror':\n",
      " . Most correlated unigrams:\n",
      ". possession\n",
      ". sidney\n",
      ". elena\n",
      ". arkin\n",
      ". demonic\n",
      " . Most correlated bigrams:\n",
      ". mysterious evil\n",
      ". left boarding\n",
      ". girls battle\n",
      ". urban legends\n",
      ". urban legend\n",
      "# 'Mystery':\n",
      " . Most correlated unigrams:\n",
      ". toronto\n",
      ". backwards\n",
      ". memento\n",
      ". leonard\n",
      ". venna\n",
      " . Most correlated bigrams:\n",
      ". connected presence\n",
      ". series accidental\n",
      ". died action\n",
      ". peterson family\n",
      ". introduces peterson\n",
      "# 'Sci-Fi':\n",
      " . Most correlated unigrams:\n",
      ". hendricksson\n",
      ". sirius\n",
      ". tinkers\n",
      ". perfecting\n",
      ". succeeds\n",
      " . Most correlated bigrams:\n",
      ". promise happiness\n",
      ". create better\n",
      ". tinkers create\n",
      ". world assembles\n",
      ". life rose\n",
      "# 'Thriller':\n",
      " . Most correlated unigrams:\n",
      ". 37\n",
      ". blackmailed\n",
      ". embroiled\n",
      ". crawls\n",
      ". woodwork\n",
      " . Most correlated bigrams:\n",
      ". job partner\n",
      ". crawls woodwork\n",
      ". criminal gets\n",
      ". doing job\n",
      ". blackmailed doing\n"
     ]
    }
   ],
   "source": [
    "# Find the words that are most correlated with each genre using sklearn's chi2\n",
    "from sklearn.feature_selection import chi2\n",
    "import numpy as np\n",
    "\n",
    "N=5\n",
    "for Genre, category_id in sorted(category_to_id.items()):\n",
    "    features_chi2 = chi2(features, labels == category_id)\n",
    "    indices = np.argsort(features_chi2[0])\n",
    "    feature_names = np.array(tfidf.get_feature_names())[indices]\n",
    "    unigrams = [v for v in feature_names if len(v.split(' ')) == 1]\n",
    "    bigrams = [v for v in feature_names if len(v.split(' '))==2]\n",
    "    print(\"# '{}':\".format(Genre))\n",
    "    print(\" . Most correlated unigrams:\\n. {}\".format('\\n. '.join(unigrams[-N:])))\n",
    "    print(\" . Most correlated bigrams:\\n. {}\".format('\\n. '.join(bigrams[-N:])))"
   ]
  },
  {
   "cell_type": "code",
   "execution_count": 16,
   "metadata": {},
   "outputs": [
    {
     "data": {
      "text/html": [
       "<div>\n",
       "<style scoped>\n",
       "    .dataframe tbody tr th:only-of-type {\n",
       "        vertical-align: middle;\n",
       "    }\n",
       "\n",
       "    .dataframe tbody tr th {\n",
       "        vertical-align: top;\n",
       "    }\n",
       "\n",
       "    .dataframe thead th {\n",
       "        text-align: right;\n",
       "    }\n",
       "</style>\n",
       "<table border=\"1\" class=\"dataframe\">\n",
       "  <thead>\n",
       "    <tr style=\"text-align: right;\">\n",
       "      <th></th>\n",
       "      <th>Genre</th>\n",
       "      <th>Plot</th>\n",
       "      <th>category_id</th>\n",
       "    </tr>\n",
       "  </thead>\n",
       "  <tbody>\n",
       "    <tr>\n",
       "      <th>1</th>\n",
       "      <td>Adventure</td>\n",
       "      <td>After being trapped in a jungle board game for...</td>\n",
       "      <td>1</td>\n",
       "    </tr>\n",
       "  </tbody>\n",
       "</table>\n",
       "</div>"
      ],
      "text/plain": [
       "       Genre                                               Plot  category_id\n",
       "1  Adventure  After being trapped in a jungle board game for...            1"
      ]
     },
     "execution_count": 16,
     "metadata": {},
     "output_type": "execute_result"
    }
   ],
   "source": [
    "df[df['Plot']== \"After being trapped in a jungle board game for 26 years, a Man-Child wins his release from the game. But, no sooner has he arrived that he is forced to play again, and this time sets the creatures of the jungle loose on the city. Now it is up to him to stop them.\"]"
   ]
  },
  {
   "cell_type": "code",
   "execution_count": 17,
   "metadata": {},
   "outputs": [
    {
     "name": "stdout",
     "output_type": "stream",
     "text": [
      "0.480808080808\n"
     ]
    }
   ],
   "source": [
    "# Use Logistic Regression model to test accuracy score\n",
    "logreg = LogisticRegression(C=1e9)\n",
    "lg=logreg.fit(X_train_tfidf, y_train)\n",
    "y_pred_class = lg.predict(count_vect.transform(X_test))\n",
    "y_pred_class\n",
    "print(metrics.accuracy_score(y_test, y_pred_class))"
   ]
  },
  {
   "cell_type": "code",
   "execution_count": 18,
   "metadata": {},
   "outputs": [
    {
     "data": {
      "text/plain": [
       "array(['Adventure'], dtype=object)"
      ]
     },
     "execution_count": 18,
     "metadata": {},
     "output_type": "execute_result"
    }
   ],
   "source": [
    "# Predict genre with Logistic Regression Model by entering plot summary\n",
    "lg.predict(count_vect.transform(['After being trapped in a jungle board game for 26 years, a Man-Child wins his release from the game. But, no sooner has he arrived that he is forced to play again, and this time sets the creatures of the jungle loose on the city. Now it is up to him to stop them.']))"
   ]
  },
  {
   "cell_type": "code",
   "execution_count": 19,
   "metadata": {},
   "outputs": [
    {
     "name": "stdout",
     "output_type": "stream",
     "text": [
      "0.482828282828\n"
     ]
    }
   ],
   "source": [
    "# Use Linear SVC model to test accuracy score\n",
    "from sklearn.model_selection import train_test_split\n",
    "from sklearn.svm import LinearSVC\n",
    "\n",
    "model = LinearSVC()\n",
    "X_train, X_test, y_train, y_test= train_test_split(X, y, test_size=0.33, random_state=42)\n",
    "X_train_counts=count_vect.fit_transform(X_train)\n",
    "X_train_tfidf=tfidf_transformer.fit_transform(X_train_counts)\n",
    "svc=model.fit(X_train_tfidf, y_train)\n",
    "y_pred=svc.predict(count_vect.transform(X_test))\n",
    "print(metrics.accuracy_score(y_test, y_pred))"
   ]
  },
  {
   "cell_type": "code",
   "execution_count": 20,
   "metadata": {},
   "outputs": [
    {
     "data": {
      "text/plain": [
       "array(['Adventure'], dtype=object)"
      ]
     },
     "execution_count": 20,
     "metadata": {},
     "output_type": "execute_result"
    }
   ],
   "source": [
    "# Predict genre with Linear SVC model by entering plot summary\n",
    "svc.predict(count_vect.transform([\"After being trapped in a jungle board game for 26 years, a Man-Child wins his release from the game. But, no sooner has he arrived that he is forced to play again, and this time sets the creatures of the jungle loose on the city. Now it is up to him to stop them.\"]))"
   ]
  },
  {
   "cell_type": "code",
   "execution_count": 21,
   "metadata": {},
   "outputs": [
    {
     "name": "stdout",
     "output_type": "stream",
     "text": [
      "0.361616161616\n"
     ]
    }
   ],
   "source": [
    "# Use Naive Bayes model to test accuracy score\n",
    "from sklearn.model_selection import train_test_split\n",
    "from sklearn.naive_bayes import MultinomialNB\n",
    "\n",
    "X_train, X_test, y_train, y_test= train_test_split(X, y, test_size=0.33, random_state=42)\n",
    "X_train_counts=count_vect.fit_transform(X_train)\n",
    "X_train_tfidf=tfidf_transformer.fit_transform(X_train_counts)\n",
    "clf=MultinomialNB().fit(X_train_tfidf, y_train)\n",
    "y_pred=clf.predict(count_vect.transform(X_test))\n",
    "print(metrics.accuracy_score(y_test, y_pred))"
   ]
  },
  {
   "cell_type": "code",
   "execution_count": 22,
   "metadata": {},
   "outputs": [
    {
     "data": {
      "text/plain": [
       "array(['Adventure'],\n",
       "      dtype='<U11')"
      ]
     },
     "execution_count": 22,
     "metadata": {},
     "output_type": "execute_result"
    }
   ],
   "source": [
    "# Predict genre with Naive Bayes model by entering plot summary\n",
    "clf.predict(count_vect.transform(['After being trapped in a jungle board game for 26 years, a Man-Child wins his release from the game. But, no sooner has he arrived that he is forced to play again, and this time sets the creatures of the jungle loose on the city. Now it is up to him to stop them.']))"
   ]
  },
  {
   "cell_type": "code",
   "execution_count": 27,
   "metadata": {},
   "outputs": [
    {
     "data": {
      "image/png": "[encoded data removed]",
      "text/plain": [
       "<matplotlib.figure.Figure at 0x1bad6ecdba8>"
      ]
     },
     "metadata": {},
     "output_type": "display_data"
    }
   ],
   "source": [
    "import seaborn as sns\n",
    "\n",
    "# Linear SVC model gave us the best accuracy score, so we are using to fit and predict\n",
    "model = LinearSVC()\n",
    "\n",
    "X_train, X_test, y_train, y_test, indices_train, indices_test = train_test_split(features, labels, df.index, test_size=0.33, random_state=42)\n",
    "model.fit(X_train, y_train)\n",
    "y_pred=model.predict(X_test)\n",
    "\n",
    "from sklearn.metrics import confusion_matrix\n",
    "\n",
    "conf_mat = confusion_matrix(y_test, y_pred)\n",
    "fig, ax = plt.subplots(figsize=(10,10))\n",
    "sns.heatmap(conf_mat, annot=True, fmt='d', xticklabels=category_id_df.Genre.values, yticklabels=category_id_df.Genre.values)\n",
    "plt.ylabel('Actual')\n",
    "plt.xlabel('Predicted')\n",
    "plt.show()"
   ]
  },
  {
   "cell_type": "code",
   "execution_count": 26,
   "metadata": {
    "scrolled": true
   },
   "outputs": [
    {
     "name": "stdout",
     "output_type": "stream",
     "text": [
      "             precision    recall  f1-score   support\n",
      "\n",
      "  Animation       0.00      0.00      0.00        23\n",
      "  Adventure       0.00      0.00      0.00        24\n",
      "     Comedy       0.40      0.93      0.56       153\n",
      "     Action       0.56      0.52      0.54        85\n",
      "  Biography       0.00      0.00      0.00        25\n",
      "      Crime       0.00      0.00      0.00        33\n",
      "      Drama       0.28      0.16      0.21        93\n",
      "    Fantasy       0.00      0.00      0.00         4\n",
      "    Mystery       0.00      0.00      0.00         6\n",
      "     Sci-Fi       0.00      0.00      0.00         1\n",
      "Documentary       0.83      0.18      0.29        28\n",
      "     Horror       0.00      0.00      0.00        19\n",
      "   Thriller       0.00      0.00      0.00         1\n",
      "\n",
      "avg / total       0.32      0.42      0.32       495\n",
      "\n"
     ]
    },
    {
     "name": "stderr",
     "output_type": "stream",
     "text": [
      "C:\\Users\\alain\\Anaconda3\\envs\\PythonData2\\lib\\site-packages\\sklearn\\metrics\\classification.py:1135: UndefinedMetricWarning: Precision and F-score are ill-defined and being set to 0.0 in labels with no predicted samples.\n",
      "  'precision', 'predicted', average, warn_for)\n"
     ]
    }
   ],
   "source": [
    "# Print Genres' classification report\n",
    "from sklearn import metrics\n",
    "print(metrics.classification_report(y_test, y_pred, target_names=df['Genre'].unique()))"
   ]
  },
  {
   "cell_type": "code",
   "execution_count": null,
   "metadata": {
    "collapsed": true
   },
   "outputs": [],
   "source": []
  }
 ],
 "metadata": {
  "kernelspec": {
   "display_name": "Python [conda env:PythonData2]",
   "language": "python",
   "name": "conda-env-PythonData2-py"
  },
  "language_info": {
   "codemirror_mode": {
    "name": "ipython",
    "version": 3
   },
   "file_extension": ".py",
   "mimetype": "text/x-python",
   "name": "python",
   "nbconvert_exporter": "python",
   "pygments_lexer": "ipython3",
   "version": "3.6.3"
  }
 },
 "nbformat": 4,
 "nbformat_minor": 2
}
