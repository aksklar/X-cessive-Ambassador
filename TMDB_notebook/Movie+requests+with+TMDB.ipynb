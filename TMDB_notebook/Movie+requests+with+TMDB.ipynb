{
 "cells": [
  {
   "cell_type": "raw",
   "metadata": {},
   "source": []
  },
  {
   "cell_type": "code",
   "execution_count": 10,
   "metadata": {
    "collapsed": true
   },
   "outputs": [],
   "source": [
    "#this is an easy to use wrapper for The Movie Database\n",
    "import tmdbsimple as tmdb\n",
    "tmdb.API_KEY = '7ab58d088ec33774de2b8204f6d3a0eb'"
   ]
  },
  {
   "cell_type": "code",
   "execution_count": 11,
   "metadata": {
    "collapsed": true
   },
   "outputs": [],
   "source": [
    "#these are examples of how to use this wrapper\n",
    "movie = tmdb.Movies(862)\n",
    "#gets the keywords of the movie id\n",
    "response=movie.keywords()"
   ]
  },
  {
   "cell_type": "code",
   "execution_count": 12,
   "metadata": {},
   "outputs": [
    {
     "data": {
      "text/plain": [
       "{'id': 862,\n",
       " 'keywords': [{'id': 779, 'name': 'martial arts'},\n",
       "  {'id': 931, 'name': 'jealousy'},\n",
       "  {'id': 4290, 'name': 'toy'},\n",
       "  {'id': 5202, 'name': 'boy'},\n",
       "  {'id': 6054, 'name': 'friendship'},\n",
       "  {'id': 6733, 'name': 'bullying'},\n",
       "  {'id': 9713, 'name': 'friends'},\n",
       "  {'id': 9823, 'name': 'rivalry'},\n",
       "  {'id': 10084, 'name': 'rescue'},\n",
       "  {'id': 10364, 'name': 'mission'},\n",
       "  {'id': 33553, 'name': 'walkie talkie'},\n",
       "  {'id': 165503, 'name': 'boy next door'},\n",
       "  {'id': 170722, 'name': 'new toy'},\n",
       "  {'id': 180523, 'name': 'neighborhood'},\n",
       "  {'id': 187065, 'name': 'toy comes to life'},\n",
       "  {'id': 242792, 'name': 'resourcefulness'}]}"
      ]
     },
     "execution_count": 12,
     "metadata": {},
     "output_type": "execute_result"
    }
   ],
   "source": [
    "response\n"
   ]
  },
  {
   "cell_type": "code",
   "execution_count": 13,
   "metadata": {
    "collapsed": true
   },
   "outputs": [],
   "source": [
    "movie = tmdb.Movies(8844)\n",
    "response=movie.keywords()"
   ]
  },
  {
   "cell_type": "code",
   "execution_count": 14,
   "metadata": {},
   "outputs": [
    {
     "data": {
      "text/plain": [
       "{'id': 8844,\n",
       " 'keywords': [{'id': 7035, 'name': 'giant insect'},\n",
       "  {'id': 10090, 'name': 'board game'},\n",
       "  {'id': 10941, 'name': 'disappearance'},\n",
       "  {'id': 15101, 'name': \"based on children's book\"},\n",
       "  {'id': 33467, 'name': 'new home'},\n",
       "  {'id': 158086, 'name': 'recluse'}]}"
      ]
     },
     "execution_count": 14,
     "metadata": {},
     "output_type": "execute_result"
    }
   ],
   "source": [
    "response"
   ]
  },
  {
   "cell_type": "code",
   "execution_count": 15,
   "metadata": {
    "collapsed": true
   },
   "outputs": [],
   "source": [
    "movie=tmdb.Movies(15602)\n",
    "response=movie.keywords()"
   ]
  },
  {
   "cell_type": "code",
   "execution_count": 16,
   "metadata": {},
   "outputs": [
    {
     "data": {
      "text/plain": [
       "{'id': 15602,\n",
       " 'keywords': [{'id': 1495, 'name': 'fishing'},\n",
       "  {'id': 10938, 'name': 'old man'},\n",
       "  {'id': 12392, 'name': 'best friend'},\n",
       "  {'id': 179431, 'name': 'duringcreditsstinger'}]}"
      ]
     },
     "execution_count": 16,
     "metadata": {},
     "output_type": "execute_result"
    }
   ],
   "source": [
    "response"
   ]
  },
  {
   "cell_type": "code",
   "execution_count": 17,
   "metadata": {
    "collapsed": true
   },
   "outputs": [],
   "source": [
    "#so now based off that here's a function\n",
    "def moviekeywords(movie_id):\n",
    "    movie=tmdb.Movies(movie_id)\n",
    "    response = movie.keywords()\n",
    "    return response"
   ]
  },
  {
   "cell_type": "code",
   "execution_count": 18,
   "metadata": {},
   "outputs": [
    {
     "data": {
      "text/plain": [
       "{'id': 862,\n",
       " 'keywords': [{'id': 779, 'name': 'martial arts'},\n",
       "  {'id': 931, 'name': 'jealousy'},\n",
       "  {'id': 4290, 'name': 'toy'},\n",
       "  {'id': 5202, 'name': 'boy'},\n",
       "  {'id': 6054, 'name': 'friendship'},\n",
       "  {'id': 6733, 'name': 'bullying'},\n",
       "  {'id': 9713, 'name': 'friends'},\n",
       "  {'id': 9823, 'name': 'rivalry'},\n",
       "  {'id': 10084, 'name': 'rescue'},\n",
       "  {'id': 10364, 'name': 'mission'},\n",
       "  {'id': 33553, 'name': 'walkie talkie'},\n",
       "  {'id': 165503, 'name': 'boy next door'},\n",
       "  {'id': 170722, 'name': 'new toy'},\n",
       "  {'id': 180523, 'name': 'neighborhood'},\n",
       "  {'id': 187065, 'name': 'toy comes to life'},\n",
       "  {'id': 242792, 'name': 'resourcefulness'}]}"
      ]
     },
     "execution_count": 18,
     "metadata": {},
     "output_type": "execute_result"
    }
   ],
   "source": [
    "#tested it out\n",
    "moviekeywords(862)"
   ]
  },
  {
   "cell_type": "code",
   "execution_count": 19,
   "metadata": {
    "collapsed": true
   },
   "outputs": [],
   "source": [
    "import csv"
   ]
  },
  {
   "cell_type": "code",
   "execution_count": 20,
   "metadata": {
    "collapsed": true
   },
   "outputs": [],
   "source": [
    "import pandas as pd"
   ]
  },
  {
   "cell_type": "code",
   "execution_count": 21,
   "metadata": {
    "collapsed": true
   },
   "outputs": [],
   "source": [
    "#basically read the test file\n",
    "df=pd.read_csv('test_ml_movies.csv')"
   ]
  },
  {
   "cell_type": "code",
   "execution_count": 22,
   "metadata": {},
   "outputs": [],
   "source": [
    "#turned it into a movie list\n",
    "movie_list=df['tmdbId'].tolist()\n"
   ]
  },
  {
   "cell_type": "code",
   "execution_count": 29,
   "metadata": {},
   "outputs": [],
   "source": [
    "#made a keywords list so that as we loop through the movie id we get the keywords associated with the movie id\n",
    "keywords=[]\n",
    "for movie in movie_list:\n",
    "    keywords.append(moviekeywords(movie))\n",
    "    \n",
    "    \n",
    "    "
   ]
  },
  {
   "cell_type": "code",
   "execution_count": 30,
   "metadata": {},
   "outputs": [
    {
     "name": "stdout",
     "output_type": "stream",
     "text": [
      "[{'id': 862, 'keywords': [{'id': 779, 'name': 'martial arts'}, {'id': 931, 'name': 'jealousy'}, {'id': 4290, 'name': 'toy'}, {'id': 5202, 'name': 'boy'}, {'id': 6054, 'name': 'friendship'}, {'id': 6733, 'name': 'bullying'}, {'id': 9713, 'name': 'friends'}, {'id': 9823, 'name': 'rivalry'}, {'id': 10084, 'name': 'rescue'}, {'id': 10364, 'name': 'mission'}, {'id': 33553, 'name': 'walkie talkie'}, {'id': 165503, 'name': 'boy next door'}, {'id': 170722, 'name': 'new toy'}, {'id': 180523, 'name': 'neighborhood'}, {'id': 187065, 'name': 'toy comes to life'}, {'id': 242792, 'name': 'resourcefulness'}]}, {'id': 8844, 'keywords': [{'id': 7035, 'name': 'giant insect'}, {'id': 10090, 'name': 'board game'}, {'id': 10941, 'name': 'disappearance'}, {'id': 15101, 'name': \"based on children's book\"}, {'id': 33467, 'name': 'new home'}, {'id': 158086, 'name': 'recluse'}]}, {'id': 15602, 'keywords': [{'id': 1495, 'name': 'fishing'}, {'id': 10938, 'name': 'old man'}, {'id': 12392, 'name': 'best friend'}, {'id': 179431, 'name': 'duringcreditsstinger'}]}]\n"
     ]
    }
   ],
   "source": [
    "print(keywords)"
   ]
  },
  {
   "cell_type": "code",
   "execution_count": 31,
   "metadata": {},
   "outputs": [
    {
     "data": {
      "text/plain": [
       "{'id': 862,\n",
       " 'keywords': [{'id': 779, 'name': 'martial arts'},\n",
       "  {'id': 931, 'name': 'jealousy'},\n",
       "  {'id': 4290, 'name': 'toy'},\n",
       "  {'id': 5202, 'name': 'boy'},\n",
       "  {'id': 6054, 'name': 'friendship'},\n",
       "  {'id': 6733, 'name': 'bullying'},\n",
       "  {'id': 9713, 'name': 'friends'},\n",
       "  {'id': 9823, 'name': 'rivalry'},\n",
       "  {'id': 10084, 'name': 'rescue'},\n",
       "  {'id': 10364, 'name': 'mission'},\n",
       "  {'id': 33553, 'name': 'walkie talkie'},\n",
       "  {'id': 165503, 'name': 'boy next door'},\n",
       "  {'id': 170722, 'name': 'new toy'},\n",
       "  {'id': 180523, 'name': 'neighborhood'},\n",
       "  {'id': 187065, 'name': 'toy comes to life'},\n",
       "  {'id': 242792, 'name': 'resourcefulness'}]}"
      ]
     },
     "execution_count": 31,
     "metadata": {},
     "output_type": "execute_result"
    }
   ],
   "source": [
    "keywords[0]"
   ]
  },
  {
   "cell_type": "code",
   "execution_count": 32,
   "metadata": {},
   "outputs": [
    {
     "data": {
      "text/plain": [
       "{'id': 8844,\n",
       " 'keywords': [{'id': 7035, 'name': 'giant insect'},\n",
       "  {'id': 10090, 'name': 'board game'},\n",
       "  {'id': 10941, 'name': 'disappearance'},\n",
       "  {'id': 15101, 'name': \"based on children's book\"},\n",
       "  {'id': 33467, 'name': 'new home'},\n",
       "  {'id': 158086, 'name': 'recluse'}]}"
      ]
     },
     "execution_count": 32,
     "metadata": {},
     "output_type": "execute_result"
    }
   ],
   "source": [
    "keywords[1]"
   ]
  },
  {
   "cell_type": "code",
   "execution_count": 33,
   "metadata": {},
   "outputs": [
    {
     "data": {
      "text/plain": [
       "{'id': 15602,\n",
       " 'keywords': [{'id': 1495, 'name': 'fishing'},\n",
       "  {'id': 10938, 'name': 'old man'},\n",
       "  {'id': 12392, 'name': 'best friend'},\n",
       "  {'id': 179431, 'name': 'duringcreditsstinger'}]}"
      ]
     },
     "execution_count": 33,
     "metadata": {},
     "output_type": "execute_result"
    }
   ],
   "source": [
    "keywords[2]"
   ]
  },
  {
   "cell_type": "code",
   "execution_count": null,
   "metadata": {
    "collapsed": true
   },
   "outputs": [],
   "source": []
  }
 ],
 "metadata": {
  "kernelspec": {
   "display_name": "Python [conda env:PythonData2]",
   "language": "python",
   "name": "conda-env-PythonData2-py"
  },
  "language_info": {
   "codemirror_mode": {
    "name": "ipython",
    "version": 3
   },
   "file_extension": ".py",
   "mimetype": "text/x-python",
   "name": "python",
   "nbconvert_exporter": "python",
   "pygments_lexer": "ipython3",
   "version": "3.6.3"
  }
 },
 "nbformat": 4,
 "nbformat_minor": 2
}
