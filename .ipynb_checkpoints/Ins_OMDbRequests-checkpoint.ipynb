{
 "cells": [
  {
   "cell_type": "code",
   "execution_count": 1,
   "metadata": {
    "collapsed": true
   },
   "outputs": [],
   "source": [
    "# import requests\n",
    "# import json"
   ]
  },
  {
   "cell_type": "code",
   "execution_count": 2,
   "metadata": {
    "collapsed": true
   },
   "outputs": [],
   "source": [
    "# New Dependency! Use this to pretty print the JSON\n",
    "# https://docs.python.org/3/library/pprint.html\n",
    "from pprint import pprint"
   ]
  },
  {
   "cell_type": "code",
   "execution_count": 17,
   "metadata": {
    "collapsed": true
   },
   "outputs": [],
   "source": [
    "# Note that the ?t= is a query param for the t-itle of the\n",
    "# movie we want to search for.\n",
    "# url = \"http://www.omdbapi.com/?i=\"\n",
    "# api_key = \"&apikey=7329004f\""
   ]
  },
  {
   "cell_type": "code",
   "execution_count": 32,
   "metadata": {},
   "outputs": [
    {
     "name": "stdout",
     "output_type": "stream",
     "text": [
      "http://www.omdbapi.com/?i=tt0114709&apikey=7329004fplot=full\n"
     ]
    }
   ],
   "source": [
    "# Performing a GET request similar to the one we executed\n",
    "# earlier\n",
    "# response = requests.get(url + \"tt0114709\" + api_key + \"plot=full\")\n",
    "# print(response.url)"
   ]
  },
  {
   "cell_type": "code",
   "execution_count": 19,
   "metadata": {},
   "outputs": [
    {
     "name": "stdout",
     "output_type": "stream",
     "text": [
      "{'Actors': 'Tom Hanks, Tim Allen, Don Rickles, Jim Varney',\n",
      " 'Awards': 'Nominated for 3 Oscars. Another 23 wins & 17 nominations.',\n",
      " 'BoxOffice': 'N/A',\n",
      " 'Country': 'USA',\n",
      " 'DVD': '20 Mar 2001',\n",
      " 'Director': 'John Lasseter',\n",
      " 'Genre': 'Animation, Adventure, Comedy',\n",
      " 'Language': 'English',\n",
      " 'Metascore': '95',\n",
      " 'Plot': 'A cowboy doll is profoundly threatened and jealous when a new '\n",
      "         \"spaceman figure supplants him as top toy in a boy's room.\",\n",
      " 'Poster': 'https://ia.media-imdb.com/images/M/MV5BMDU2ZWJlMjktMTRhMy00ZTA5LWEzNDgtYmNmZTEwZTViZWJkXkEyXkFqcGdeQXVyNDQ2OTk4MzI@._V1_SX300.jpg',\n",
      " 'Production': 'Buena Vista',\n",
      " 'Rated': 'G',\n",
      " 'Ratings': [{'Source': 'Internet Movie Database', 'Value': '8.3/10'},\n",
      "             {'Source': 'Rotten Tomatoes', 'Value': '100%'},\n",
      "             {'Source': 'Metacritic', 'Value': '95/100'}],\n",
      " 'Released': '22 Nov 1995',\n",
      " 'Response': 'True',\n",
      " 'Runtime': '81 min',\n",
      " 'Title': 'Toy Story',\n",
      " 'Type': 'movie',\n",
      " 'Website': 'http://www.disney.com/ToyStory',\n",
      " 'Writer': 'John Lasseter (original story by), Pete Docter (original story '\n",
      "           'by), Andrew Stanton (original story by), Joe Ranft (original story '\n",
      "           'by), Joss Whedon (screenplay by), Andrew Stanton (screenplay by), '\n",
      "           'Joel Cohen (screenplay by), Alec Sokolow (screenplay by)',\n",
      " 'Year': '1995',\n",
      " 'imdbID': 'tt0114709',\n",
      " 'imdbRating': '8.3',\n",
      " 'imdbVotes': '733,458'}\n"
     ]
    }
   ],
   "source": [
    "# Converting the response to JSON, and printing the result.\n",
    "# data = response.json()\n",
    "# pprint(data)"
   ]
  },
  {
   "cell_type": "code",
   "execution_count": 20,
   "metadata": {},
   "outputs": [
    {
     "name": "stdout",
     "output_type": "stream",
     "text": [
      "Movie was directed by John Lasseter.\n",
      "Movie was released in USA.\n"
     ]
    }
   ],
   "source": [
    "# Print a few keys from the response JSON.\n",
    "# print(f\"Movie was directed by {data['Director']}.\")\n",
    "# print(f\"Movie was released in {data['Country']}.\")"
   ]
  },
  {
   "cell_type": "code",
   "execution_count": 6,
   "metadata": {},
   "outputs": [],
   "source": [
    "import omdb\n",
    "import pandas as pd\n",
    "import csv\n",
    "from pprint import pprint"
   ]
  },
  {
   "cell_type": "code",
   "execution_count": 2,
   "metadata": {},
   "outputs": [
    {
     "name": "stdout",
     "output_type": "stream",
     "text": [
      "<Response [200]>\n"
     ]
    }
   ],
   "source": [
    "res= omdb.request(i='tt00', plot='full',apikey='29dcf638')\n",
    "print(res)"
   ]
  },
  {
   "cell_type": "code",
   "execution_count": 3,
   "metadata": {},
   "outputs": [],
   "source": [
    "# pprint(res.json())"
   ]
  },
  {
   "cell_type": "code",
   "execution_count": 4,
   "metadata": {
    "collapsed": true
   },
   "outputs": [],
   "source": [
    "# data=res.json()"
   ]
  },
  {
   "cell_type": "code",
   "execution_count": 5,
   "metadata": {},
   "outputs": [],
   "source": [
    "# pprint(data)"
   ]
  },
  {
   "cell_type": "code",
   "execution_count": 31,
   "metadata": {},
   "outputs": [
    {
     "data": {
      "text/plain": [
       "'A little boy named Andy loves to be in his room, playing with his toys, especially his doll named \"Woody\". But, what do the toys do when Andy is not with them, they come to life. Woody believes that he has life (as a toy) good. However, he must worry about Andy\\'s family moving, and what Woody does not know is about Andy\\'s birthday party. Woody does not realize that Andy\\'s mother gave him an action figure known as Buzz Lightyear, who does not believe that he is a toy, and quickly becomes Andy\\'s new favorite toy. Woody, who is now consumed with jealousy, tries to get rid of Buzz. Then, both Woody and Buzz are now lost. They must find a way to get back to Andy before he moves without them, but they will have to pass through a ruthless toy killer, Sid Phillips.'"
      ]
     },
     "execution_count": 31,
     "metadata": {},
     "output_type": "execute_result"
    }
   ],
   "source": [
    "movies_list = pd.read_csv(\"\")"
   ]
  },
  {
   "cell_type": "code",
   "execution_count": 38,
   "metadata": {
    "collapsed": true
   },
   "outputs": [],
   "source": []
  },
  {
   "cell_type": "code",
   "execution_count": null,
   "metadata": {
    "collapsed": true
   },
   "outputs": [],
   "source": []
  }
 ],
 "metadata": {
  "kernelspec": {
   "display_name": "Python [conda env:PythonData2]",
   "language": "python",
   "name": "conda-env-PythonData2-py"
  },
  "language_info": {
   "codemirror_mode": {
    "name": "ipython",
    "version": 3
   },
   "file_extension": ".py",
   "mimetype": "text/x-python",
   "name": "python",
   "nbconvert_exporter": "python",
   "pygments_lexer": "ipython3",
   "version": "3.6.3"
  },
  "varInspector": {
   "cols": {
    "lenName": 16,
    "lenType": 16,
    "lenVar": 40
   },
   "kernels_config": {
    "python": {
     "delete_cmd_postfix": "",
     "delete_cmd_prefix": "del ",
     "library": "var_list.py",
     "varRefreshCmd": "print(var_dic_list())"
    },
    "r": {
     "delete_cmd_postfix": ") ",
     "delete_cmd_prefix": "rm(",
     "library": "var_list.r",
     "varRefreshCmd": "cat(var_dic_list()) "
    }
   },
   "types_to_exclude": [
    "module",
    "function",
    "builtin_function_or_method",
    "instance",
    "_Feature"
   ],
   "window_display": false
  }
 },
 "nbformat": 4,
 "nbformat_minor": 2
}
